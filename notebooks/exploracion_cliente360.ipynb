{
 "cells": [
  {
   "cell_type": "code",
   "execution_count": null,
   "id": "07173d81-c626-4626-b1ea-b7753434d2cb",
   "metadata": {},
   "outputs": [],
   "source": [
    "import pandas as pd\n",
    "import matplotlib.pyplot as plt\n",
    "import seaborn as sns\n",
    "\n",
    "# Estilo más lindo para los gráficos\n",
    "sns.set(style=\"whitegrid\")"
   ]
  },
  {
   "cell_type": "code",
   "execution_count": null,
   "id": "5b268ec3-51ab-49a8-831f-cd82a433020b",
   "metadata": {},
   "outputs": [],
   "source": [
    "df = pd.read_csv(\"../data/processed/cliente_360.csv\")\n",
    "df.head()"
   ]
  },
  {
   "cell_type": "code",
   "execution_count": null,
   "id": "22826807-2135-4a93-ad1e-e4193cc5d20e",
   "metadata": {},
   "outputs": [],
   "source": [
    "df.describe()"
   ]
  },
  {
   "cell_type": "code",
   "execution_count": null,
   "id": "de405edf-c830-4715-be4b-41a5d222c77d",
   "metadata": {},
   "outputs": [],
   "source": [
    "plt.figure(figsize=(8, 4))\n",
    "sns.histplot(df[\"ingresos_mensuales\"], bins=30, kde=True, color=\"skyblue\")\n",
    "plt.title(\"Distribución de Ingresos Mensuales\")\n",
    "plt.xlabel(\"Ingresos\")\n",
    "plt.ylabel(\"Frecuencia\")\n",
    "plt.show()"
   ]
  },
  {
   "cell_type": "code",
   "execution_count": null,
   "id": "17a7764d-2249-488a-a7db-ce7aa651df0a",
   "metadata": {},
   "outputs": [],
   "source": [
    "plt.figure(figsize=(8, 5))\n",
    "sns.scatterplot(\n",
    "    x=\"ingresos_mensuales\",\n",
    "    y=\"score_endeudamiento\",\n",
    "    data=df,\n",
    "    hue=\"provincia\",\n",
    "    palette=\"tab10\"\n",
    ")\n",
    "plt.title(\"Score de Endeudamiento vs. Ingresos\")\n",
    "plt.xlabel(\"Ingresos mensuales\")\n",
    "plt.ylabel(\"Score de endeudamiento\")\n",
    "plt.legend(bbox_to_anchor=(1.05, 1), loc='upper left')\n",
    "plt.tight_layout()\n",
    "plt.show()"
   ]
  }
 ],
 "metadata": {
  "kernelspec": {
   "display_name": "Python 3 (ipykernel)",
   "language": "python",
   "name": "python3"
  },
  "language_info": {
   "codemirror_mode": {
    "name": "ipython",
    "version": 3
   },
   "file_extension": ".py",
   "mimetype": "text/x-python",
   "name": "python",
   "nbconvert_exporter": "python",
   "pygments_lexer": "ipython3",
   "version": "3.13.1"
  }
 },
 "nbformat": 4,
 "nbformat_minor": 5
}
